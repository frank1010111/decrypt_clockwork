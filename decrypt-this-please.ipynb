{
 "cells": [
  {
   "cell_type": "markdown",
   "id": "3ed2fd9d-e748-47f8-bd99-984ad9aa0548",
   "metadata": {},
   "source": [
    "## Decrypt this please\n",
    "\n",
    "What information were we given by the DM?\n",
    "\n",
    "1. Substitution cipher\n",
    "2. The author seems extremely familiar with the key\n",
    "3. The author is almost certainly Father Willem, a priest of the dreaming god who might have been kicked out for heresy.\n",
    "4. The first word of each log entry is the same\n",
    "\n",
    "The key must have something to do with the mysterious scroll I received as part of my paladin training at a temple of the dreaming god. I will use it!"
   ]
  },
  {
   "cell_type": "code",
   "execution_count": 1,
   "id": "8e362190-0316-43ad-a363-01e3b3e946bc",
   "metadata": {},
   "outputs": [],
   "source": [
    "import re\n",
    "import string\n",
    "\n",
    "from main import decode_text"
   ]
  },
  {
   "cell_type": "code",
   "execution_count": 2,
   "id": "66add356-09c3-4b06-9658-1914a69d2c4a",
   "metadata": {
    "scrolled": true
   },
   "outputs": [
    {
     "name": "stdout",
     "output_type": "stream",
     "text": [
      "ENTRY44\n",
      "TODAYISTOODBEFORETHE FRACTUREDHUEKOFVHE WONDERENGINEINTHE VAGRANTHILLSITTOOKME WEEKSTOFINDITEVENDIRMANT ITHUBSBENEATHTHESOILLI WEASLEEPINGGODTHERUNE TRIBESCALLITSACRED THEYCANNOTSEEWHATISEE AGAFPZKSGDMGPQZEDRD RXUUQVMPCKVKJXVXWE QTYYEKUMOHOQEIZOQUE HEQYYBSQEBVSMAJHGPDN \n",
      "\n",
      "ENTRY51\n",
      "THEENGINESTEETHDO NOTGRINDTHEYCOZSUME NOTMETALNOTOILBUT WILLIFEDITARABBIT FIRSTITLIVEDAFTERWARD INASENSEIWONDERNOWIS RESURRECTIAXSIMPLY REANIMATIONWITHGOOD PRWASIWRONGALLOLONGIN CALLINGITNECROMANCY WHENITMAYBENOMORETHAN APBLIEDSANCTITY \n",
      "\n",
      "ENTRY67\n",
      "BLIGHTVICTIMS DETERIORATETOO QUICWLYFORSUSTAINED TESTINGBUTINTHE EARLYSTAGESTHEIR BODIESTAKETOTHE CLOCKWORKBEAUTIFULLY ITSASIFTHQIRILLNESS SOFTENSTHEBOUNDARY BETWULVSISRGTSXNTHVR VLIYSJAZGNGAFGIUPOPG RKCGVDYAPOVXFEJAYLFXDJF EDOSMQOSJLADZOXRDZGN WBFREEDDCWMKBANNSBPARV OPNMLEYXZTJLOPCAFDNT OORNMGFEIERUCSSGACKM \n",
      "\n",
      "ENTRY74\n",
      "CLOCKTAURSTHETERMWAS MEANTASAJESFNOWTHEY HAUNTMYDREAMSLIKE FALLENANGELSINIVORY SKINSFUSEDSPINAL COLUMNSMECHANICALLIMBS THEHEARTAFADYINGANIMAL ANDSTILLTHEYMUSTMOVE WHENTHEYAREBIRTHEDIT WILLSOUNDLIKEPRAYERWHEN THEYKILLITWILXSOUNDLIKE JUDGMENT \n",
      "\n",
      "ENTRY86\n",
      "MAGNUSASHESMAYHAVE GLEANEDMORETHMNIHOPED IMUSTDELAYALL CORRESPONDENCESIF SHESEESTHEFULLSCOPE OFWHATIVEDONESHELL BURNTHEPAGESANDYE WITHTHEM\n",
      " \n",
      "\n"
     ]
    }
   ],
   "source": [
    "with open(\"ciphertext.txt\") as f:\n",
    "    text = f.read()\n",
    "\n",
    "key = \"\"\"O DREAMING GOD,\n",
    "YOU WHO HUNT THE NIGHTMARES OF THE WORLD,\n",
    "INFUSE MY SWORD WITH THE COLD TRUTH OF YOUR CONVICTION.\n",
    "AS I PRACTICE THE STOKES LET THEM NOT BE FOR SPORT\n",
    "BUT FOR THE SACRED PURPOSE OF YOUR WILL.\n",
    "MAY MY MOVEMENTS BE THE ECHO OF OUR RELENTLESS PURSUIT AND\n",
    "MY SPIRIT A VESSEL FOR YOUR CLEANSING FIRE.\n",
    "WHEN I AM CALLED TO FACE THE CORRUPTION OF THE VOID\n",
    "LET THIS TRAINING BE THE MEMORY THAT GUIDES MY HAND\n",
    "TO VICTORY.\n",
    "MAY IT BE SO.\"\"\"\n",
    "key = re.sub(r\"[^A-Z]\", \"\", key)[:90]\n",
    "\n",
    "\n",
    "for entry in text[:1240].split(\"\\n\\n\"):\n",
    "    plaintext = decode_text(entry, key)\n",
    "    print(plaintext, \"\\n\")"
   ]
  },
  {
   "cell_type": "markdown",
   "id": "90146839-0352-4114-9285-ed19899715c2",
   "metadata": {},
   "source": [
    "Woo! After trimming the key to 90 letters (Not 89? Maybe I made a classic off-by-one error, the first set of log entries are decoded.\n",
    "\n",
    "For the second set, it's probably some other part of the passage. I know that the first word of the additional entries is probably \"ENTRY\", and the ciphertext is \"XUXJR\", so I can just rotate around until it matches and I'll see the beginning of the new key. "
   ]
  },
  {
   "cell_type": "code",
   "execution_count": 3,
   "id": "523cb836-8c22-46d1-82ba-c1f95cb83750",
   "metadata": {},
   "outputs": [
    {
     "name": "stdout",
     "output_type": "stream",
     "text": [
      "THEST\n"
     ]
    }
   ],
   "source": [
    "new_key_start = \"\"\n",
    "plaintext = \"ENTRY\"\n",
    "ciphertext = \"XUXJR\"\n",
    "for ct, pt in zip(ciphertext, plaintext):\n",
    "    keyval = (ord(ct) - ord(pt)) % 26\n",
    "    new_key_start += chr(ord(\"A\") + keyval)\n",
    "print(new_key_start)"
   ]
  },
  {
   "cell_type": "markdown",
   "id": "a04f7642-c909-4b35-bad3-ad7f30e36241",
   "metadata": {},
   "source": [
    "THEST... The stokes! [sic]. Let's try it out letter by letter until things match."
   ]
  },
  {
   "cell_type": "code",
   "execution_count": 4,
   "id": "9f9d0dcb-db74-44cc-8fcd-4bb4600ebb55",
   "metadata": {},
   "outputs": [
    {
     "name": "stdout",
     "output_type": "stream",
     "text": [
      "A : IPREL  WHATO  THELT  PERHL  \n",
      "B : IPREK  WHATN  THELS  PERHK  \n",
      "C : IPREJ  WHATM  THELR  PERHJ  \n",
      "D : IPREI  WHATL  THELQ  PERHI  \n",
      "E : IPREH  WHATK  THELP  PERHH  \n",
      "F : IPREG  WHATJ  THELO  PERHG  \n",
      "G : IPREF  WHATI  THELN  PERHF  \n",
      "H : IPREE  WHATH  THELM  PERHE  \n",
      "I : IPRED  WHATG  THELL  PERHD  \n",
      "J : IPREC  WHATF  THELK  PERHC  \n",
      "K : IPREB  WHATE  THELJ  PERHB  \n",
      "L : IPREA  WHATD  THELI  PERHA  \n",
      "M : IPREZ  WHATC  THELH  PERHZ  \n",
      "N : IPREY  WHATB  THELG  PERHY  \n",
      "O : IPREX  WHATA  THELF  PERHX  \n",
      "P : IPREW  WHATZ  THELE  PERHW  \n",
      "Q : IPREV  WHATY  THELD  PERHV  \n",
      "R : IPREU  WHATX  THELC  PERHU  \n",
      "S : IPRET  WHATW  THELB  PERHT  \n",
      "T : IPRES  WHATV  THELA  PERHS  \n",
      "U : IPRER  WHATU  THELZ  PERHR  \n",
      "V : IPREQ  WHATT  THELY  PERHQ  \n",
      "W : IPREP  WHATS  THELX  PERHP  \n",
      "X : IPREO  WHATR  THELW  PERHO  \n",
      "Y : IPREN  WHATQ  THELV  PERHN  \n",
      "Z : IPREM  WHATP  THELU  PERHM  \n"
     ]
    }
   ],
   "source": [
    "for next_letter in string.ascii_uppercase:\n",
    "    print(next_letter, \":\", end=\" \")\n",
    "    key = \"THESTOKES\" + next_letter\n",
    "    for entry in text[1241:].split(\"\\n\\n\"):\n",
    "        plaintext = decode_text(entry, key)\n",
    "        print(plaintext.split(\"\\n\")[1][: len(key) - 5], end=\"  \")\n",
    "    print()"
   ]
  },
  {
   "cell_type": "markdown",
   "id": "59c7046e-ba90-481a-b2fa-98aab10cacdd",
   "metadata": {},
   "source": [
    "Now we can just let keep growing the key until it's the right length"
   ]
  },
  {
   "cell_type": "code",
   "execution_count": 5,
   "id": "e5fd0b43-a15a-44ef-805c-3e6b2e7b8ecf",
   "metadata": {},
   "outputs": [
    {
     "data": {
      "text/plain": [
       "(99, 10)"
      ]
     },
     "execution_count": 5,
     "metadata": {},
     "output_type": "execute_result"
    }
   ],
   "source": [
    "(\n",
    "    len(\n",
    "        \"ENTRYTHELINEISTHINNING WHATISADEMONBUTAGOD INTHEMAKINGWHATISA MANBUTAVESSELIT ISNOTTEMPTATIONIT ISDESIGN\".replace(\n",
    "            \" \", \"\"\n",
    "        )\n",
    "    ),\n",
    "    len(key),\n",
    ")"
   ]
  },
  {
   "cell_type": "code",
   "execution_count": 6,
   "id": "2b06454f-955d-4a0f-b9d5-24fcc84dc1e6",
   "metadata": {},
   "outputs": [
    {
     "name": "stdout",
     "output_type": "stream",
     "text": [
      "ENTRY93\n",
      "IPREACHEDFORDECADES ABOUTTHEDREAMING GODSMERCYISEENOW MERCYISANILLUSION OFTHELIVINGTHE ENGINEUNDERSTANDS BALANCEITTAKESONLY WHATWEWASTETHESE BLIGHTEDSOULSHADNO FUTUREIHAVEGIVENTHEK FORMFUNCTIONAFINAL PURPOSELETTHEWHITE RATJUDGEMELETTHEFORGF GODJUDGEMELETTHELADY OFGRASSJUDGEMELETALL UHEMINORDEITIES WORSHIPEDONTHE CONTINENTJUDGEMELET THEMTRYBUTTHEDREAMING GODHEHASLOSTAXL JURISDICTIONOVERME \n",
      "\n",
      "ENTRY101\n",
      "WHATDIDTHEANCIENTS HAVETHATILACKTHAT ICANNOTBUILDAND BUILDBETTERWITH SCIENCEGODSSCAT! ASTHFGNOLLSSAY NOWTHATMIGHTBEAN IDEA.... \n",
      "\n",
      "ENTRY108\n",
      "THELINEISTHINNING WHATISADEMONBUTAGOD INTHEMAKINGWHATISA MANBUTAVESSELIT ISNOTTEMPTATIONIT ISDESIGN \n",
      "\n",
      "ENTRY119\n",
      "PERHAPSAVINDICTIVE MANAMADAIWILLEM WILLBEAMERCIFULGOB ISENTAJOBGNOLL WITHAMESSAGETOALEX INOURCODELETTHEM WITNESSMYULTIMATE VICTORY\n",
      " \n",
      "\n"
     ]
    }
   ],
   "source": [
    "key = \"THESTOKESLETTHEMNOTBEFORSPORTBUTFORTHESACREDPURPOSEOFYOURWILLMAYMYMOVEMENTSBETHEECHOOFOURRELENTLESSPURSUITANDMYSPIRITAVESSELFORYOURCLEANSINGFIRE\"[\n",
    "    :99\n",
    "]\n",
    "for entry in text[1241:].split(\"\\n\\n\"):\n",
    "    plaintext = decode_text(entry, key)\n",
    "    print(plaintext, \"\\n\")"
   ]
  }
 ],
 "metadata": {
  "kernelspec": {
   "display_name": "Python 3 (ipykernel)",
   "language": "python",
   "name": "python3"
  },
  "language_info": {
   "codemirror_mode": {
    "name": "ipython",
    "version": 3
   },
   "file_extension": ".py",
   "mimetype": "text/x-python",
   "name": "python",
   "nbconvert_exporter": "python",
   "pygments_lexer": "ipython3",
   "version": "3.13.1"
  }
 },
 "nbformat": 4,
 "nbformat_minor": 5
}
