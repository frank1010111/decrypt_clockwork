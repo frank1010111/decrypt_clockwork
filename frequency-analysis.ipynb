{
 "cells": [
  {
   "cell_type": "markdown",
   "id": "644399ab-4ca8-4f99-be71-380bcaeaa861",
   "metadata": {},
   "source": [
    "# Frequency\n",
    "\n",
    "Get frequency statistics for letters, digraphs, and trigraphs to start deciphering."
   ]
  },
  {
   "cell_type": "code",
   "execution_count": 1,
   "id": "e58b5b90-21b4-467e-9662-0a4ff61cf558",
   "metadata": {},
   "outputs": [],
   "source": [
    "from collections import Counter\n",
    "\n",
    "import matplotlib.pyplot as plt\n",
    "\n",
    "from main import rotate"
   ]
  },
  {
   "cell_type": "code",
   "execution_count": 2,
   "id": "cfac0b6b-a3a6-4bcf-9c17-0b467b7a9dc8",
   "metadata": {},
   "outputs": [],
   "source": [
    "with open(\"ciphertext.txt\") as f:\n",
    "    text = f.read()"
   ]
  },
  {
   "cell_type": "markdown",
   "id": "a833f178-7f95-4b02-b1ee-9a026b7edee4",
   "metadata": {},
   "source": [
    "Let's see if this is a rotation cipher (Caesar). If it is, the most common letters will have TEA and O. Any rotation that has those as the most common letters is a candidate."
   ]
  },
  {
   "cell_type": "code",
   "execution_count": 3,
   "id": "4179bc5c-3421-4e0e-8e8c-5d9599b51131",
   "metadata": {},
   "outputs": [
    {
     "name": "stdout",
     "output_type": "stream",
     "text": [
      "8 ['T', 'I', 'A', 'E', 'O', 'U', 'P', 'N', 'H', 'F']\n"
     ]
    }
   ],
   "source": [
    "for rot in range(26):\n",
    "    # print(rotate(text[:90],rot))\n",
    "    rotated = rotate(text, rot)\n",
    "    most_common = [c[0] for c in Counter(rotated).most_common(12)][2:]\n",
    "    if set(most_common) >= set(\"TEAO\"):\n",
    "        print(rot, most_common)"
   ]
  },
  {
   "cell_type": "code",
   "execution_count": 5,
   "id": "a7cf04ca-d6b5-4644-89a2-fb500cb1970b",
   "metadata": {},
   "outputs": [
    {
     "name": "stdout",
     "output_type": "stream",
     "text": [
      "AYSDG44\n",
      "NEYOMEDZKQHQAUQMFUWQ AHORUOZDPHQRLDRZDD PZDYRTEZAONIEMELU WPHGMXPATMKUJIPBUGOD GAZNIDPVEIZTS\n"
     ]
    }
   ],
   "source": [
    "print(rotate(text, 8)[:100])"
   ]
  },
  {
   "cell_type": "markdown",
   "id": "c78e3b94-7ee4-4539-9a6e-48fbcec6de00",
   "metadata": {},
   "source": [
    "Okay, it probably isn't a Caesar cipher. Let's do a classical frequency analysis and see if it is a different sort of alphabetic substitution cipher"
   ]
  },
  {
   "cell_type": "code",
   "execution_count": 6,
   "id": "ccdc6dd7-01a9-4f6d-a9a2-df7c300f3610",
   "metadata": {},
   "outputs": [
    {
     "data": {
      "image/png": "[encoded data removed]",
      "text/plain": [
       "<Figure size 1300x400 with 9 Axes>"
      ]
     },
     "metadata": {},
     "output_type": "display_data"
    }
   ],
   "source": [
    "n_msgs = len(text.split(\"\\n\\n\"))\n",
    "fig, axes = plt.subplots(3, 3, sharex=True, sharey=True, figsize=(13, 4))\n",
    "axes = axes.flatten()\n",
    "\n",
    "for i in range(n_msgs):\n",
    "    alpha_counts = Counter(text.split(\"\\n\\n\")[i].split(\"\\n\")[1])\n",
    "    letter_counts = dict(\n",
    "        sorted(\n",
    "            {\n",
    "                chr(char): alpha_counts[chr(char)]\n",
    "                for char in range(ord(\"A\"), ord(\"A\") + 26)\n",
    "            }.items(),\n",
    "            key=lambda item: -item[1],\n",
    "        )\n",
    "    )\n",
    "    # print({letter:count for letter,count in alpha_counts.most_common(10)[1:]})\n",
    "    axes[i].bar(letter_counts.keys(), letter_counts.values())\n",
    "# letter_counts\n",
    "for ax in axes[6:9]:\n",
    "    ax.set(xlabel=\"Character\")\n",
    "for ax in axes[0:8:3]:\n",
    "    ax.set(ylabel=\"Frequency\")"
   ]
  },
  {
   "cell_type": "markdown",
   "id": "89d29145-22f4-43fa-91c4-13841d5edf9d",
   "metadata": {},
   "source": [
    "Okay, so our most common letters change based on which message we have.\n",
    "\n",
    "In the English language (let's pray this is English), the most common letters ought to be T, E, A, O. And there ought to be damn few XYZs. So something is up. Probably a polyalphabetic cipher.\n",
    "\n",
    "The Kasiski method is used to determine the key length of polyalphabetic substitution ciphers, so let's pull that out. ~Though I'm betting from the first line of each message that the cipher is 5 characters long.~ The first line of each message is the same?"
   ]
  },
  {
   "cell_type": "code",
   "execution_count": 4,
   "id": "db4c10c3-1696-4b35-98d8-406e27efd6e8",
   "metadata": {},
   "outputs": [
    {
     "name": "stdout",
     "output_type": "stream",
     "text": [
      "{'SQKVY44': {'LJE': [74]}, 'SQKVY51': {}, 'SQKVY67': {'ZKN': [89], 'KNK': [89], 'NKQ': [89], 'KQT': [89]}, 'SQKVY74': {'WGK': [144], 'AAQ': [19]}, 'SQKVY86': {'RGP': [78]}, 'XUXJR93': {'WZV': [227], 'VWL': [338], 'KJA': [205], 'XUL': [54], 'KAL': [198], 'HZI': [48], 'XNE': [54], 'HKA': [106], 'QYR': [23]}, 'XUXJR101': {}, 'XUXJR108': {'ZXT': [76]}, 'XUXJR119': {}}\n"
     ]
    }
   ],
   "source": [
    "def find_repeated_sequences(ciphertext, min_length=3):\n",
    "    repeated_sequences = {}\n",
    "    for i in range(len(ciphertext) - min_length + 1):\n",
    "        seq = ciphertext[i : i + min_length]\n",
    "        for j in range(i + min_length, len(ciphertext) - min_length + 1):\n",
    "            if ciphertext[j : j + min_length] == seq:\n",
    "                if seq not in repeated_sequences:\n",
    "                    repeated_sequences[seq] = []\n",
    "                repeated_sequences[seq].append(i)\n",
    "                repeated_sequences[seq].append(j)\n",
    "    # Remove duplicates and sort indices\n",
    "    for seq in repeated_sequences:\n",
    "        repeated_sequences[seq] = sorted(list(set(repeated_sequences[seq])))\n",
    "    return {s: pos for s, pos in repeated_sequences.items() if len(pos) > 1}\n",
    "\n",
    "\n",
    "def calculate_distances(repeated_sequences):\n",
    "    distances = {}\n",
    "    for seq, positions in repeated_sequences.items():\n",
    "        if len(positions) > 1:\n",
    "            seq_distances = []\n",
    "            for i in range(1, len(positions)):\n",
    "                seq_distances.append(positions[i] - positions[i - 1])\n",
    "            distances[seq] = seq_distances\n",
    "    return distances\n",
    "\n",
    "\n",
    "repeated_sequences = {}\n",
    "distances = {}\n",
    "for msg in text.split(\"\\n\\n\"):\n",
    "    # print(msg.replace(\" \",\"\").split(\"\\n\"))\n",
    "    head, body = msg.replace(\" \", \"\").split(\"\\n\")[:2]\n",
    "    repeated_sequences[head] = find_repeated_sequences(body)\n",
    "    distances[head] = calculate_distances(repeated_sequences[head])\n",
    "print(distances)"
   ]
  },
  {
   "cell_type": "markdown",
   "id": "3e1b2ca6-6460-4879-bf39-0a57bff1267f",
   "metadata": {},
   "source": [
    "Okay, so there's a chance of an 89 character Vigenère cipher. The other repeated number is 54. But nothing conclusive, and if it's that long I'm not going to brute force the key.\n",
    "\n",
    "\n",
    "It's ragged right, so maybe this is a playfair cipher. That one comes from the 1800s, so it's a little late for our campaign. If it is, then the lines will have a greatest common factor like 2 or 3."
   ]
  },
  {
   "cell_type": "code",
   "execution_count": 5,
   "id": "dbf5faa2-72c3-49b5-9e66-bc683e8e6cd7",
   "metadata": {},
   "outputs": [
    {
     "data": {
      "text/plain": [
       "{'SQKVY44': [20, 18, 17, 20, 24, 22, 21, 18, 21, 19, 18, 19, 20],\n",
       " 'SQKVY51': [17, 19, 17, 17, 21, 20, 18, 19, 21, 19, 21, 15],\n",
       " 'SQKVY67': [13, 14, 19, 15, 16, 15, 20, 19, 18, 20, 20, 23, 20, 22, 20, 20],\n",
       " 'SQKVY74': [20, 19, 17, 19, 16, 22, 22, 20, 20, 23, 23, 8],\n",
       " 'SQKVY86': [18, 21, 13, 17, 19, 18, 17, 8],\n",
       " 'XUXJR93': [19,\n",
       "  16,\n",
       "  16,\n",
       "  17,\n",
       "  14,\n",
       "  17,\n",
       "  18,\n",
       "  16,\n",
       "  18,\n",
       "  20,\n",
       "  18,\n",
       "  18,\n",
       "  21,\n",
       "  20,\n",
       "  20,\n",
       "  15,\n",
       "  14,\n",
       "  19,\n",
       "  21,\n",
       "  15,\n",
       "  18],\n",
       " 'XUXJR101': [18, 17, 15, 15, 16, 14, 16, 8],\n",
       " 'XUXJR108': [17, 19, 18, 15, 17, 8],\n",
       " 'XUXJR119': [18, 15, 18, 14, 18, 16, 17, 7]}"
      ]
     },
     "execution_count": 5,
     "metadata": {},
     "output_type": "execute_result"
    }
   ],
   "source": [
    "word_lengths = {}\n",
    "for msg in text.split(\"\\n\\n\"):\n",
    "    head, body = msg.split(\"\\n\")[:2]\n",
    "    word_lengths[head] = [len(w) for w in body.split(\" \")]\n",
    "word_lengths"
   ]
  },
  {
   "cell_type": "markdown",
   "id": "d545de58-2f8a-4cdf-9f98-8ea1e6564aa4",
   "metadata": {},
   "source": [
    "Nope, time to think like a spy. Or ask the DM. What's the author's favorite phrase? (Especially an 89 character one)\n",
    "\n",
    "To find out, we go to the next notebook."
   ]
  }
 ],
 "metadata": {
  "kernelspec": {
   "display_name": "Python 3 (ipykernel)",
   "language": "python",
   "name": "python3"
  },
  "language_info": {
   "codemirror_mode": {
    "name": "ipython",
    "version": 3
   },
   "file_extension": ".py",
   "mimetype": "text/x-python",
   "name": "python",
   "nbconvert_exporter": "python",
   "pygments_lexer": "ipython3",
   "version": "3.13.1"
  }
 },
 "nbformat": 4,
 "nbformat_minor": 5
}
